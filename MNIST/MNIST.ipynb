{
 "cells": [
  {
   "cell_type": "markdown",
   "metadata": {},
   "source": [
    "# MNIST Classification\n",
    "Criando uma rede para classificação da base de dados **MNIST**, caracterizada por ser digitos de 0 a 9 escritos a mão.\n",
    "\n",
    "## Setup\n",
    "Carregando bibliotecas e gerando seed para reprodução do código."
   ]
  },
  {
   "cell_type": "code",
   "execution_count": 2,
   "metadata": {
    "collapsed": false
   },
   "outputs": [],
   "source": [
    "# Bibliotecas\n",
    "import numpy as np\n",
    "from keras.models import Sequential\n",
    "from keras.layers import Dense, Activation, Dropout, Flatten\n",
    "from keras.layers import Convolution2D, MaxPooling2D\n",
    "from keras.utils import np_utils\n",
    "\n",
    "# Setando o seed\n",
    "np.random.seed(123)"
   ]
  },
  {
   "cell_type": "markdown",
   "metadata": {},
   "source": [
    "## Carregando os dados\n",
    "Carregando os dados direto da biblioteca do *keras*."
   ]
  },
  {
   "cell_type": "code",
   "execution_count": 40,
   "metadata": {
    "collapsed": false
   },
   "outputs": [],
   "source": [
    "from keras.datasets import mnist\n",
    "\n",
    "(X_train, y_train), (X_test, y_test) = mnist.load_data()"
   ]
  },
  {
   "cell_type": "code",
   "execution_count": 41,
   "metadata": {
    "collapsed": false
   },
   "outputs": [
    {
     "name": "stdout",
     "output_type": "stream",
     "text": [
      "X train:  (60000, 28, 28)\n",
      "y train:  (60000,)\n",
      "X test:  (10000, 28, 28)\n",
      "y test: (10000,)\n"
     ]
    }
   ],
   "source": [
    "print('X train: ', X_train.shape)\n",
    "print('y train: ', y_train.shape)\n",
    "print('X test: ', X_test.shape)\n",
    "print('y test:', y_test.shape)"
   ]
  },
  {
   "cell_type": "code",
   "execution_count": 42,
   "metadata": {
    "collapsed": false
   },
   "outputs": [
    {
     "data": {
      "image/png": "[encoded data removed]",
      "text/plain": [
       "<matplotlib.figure.Figure at 0x7f2f62e70b70>"
      ]
     },
     "metadata": {},
     "output_type": "display_data"
    }
   ],
   "source": [
    "# Plotando uma amostra\n",
    "from matplotlib import pyplot as plt\n",
    "%matplotlib inline\n",
    "\n",
    "idxs = np.arange(X_train.shape[0])\n",
    "np.random.shuffle(idxs)\n",
    "\n",
    "imgs_to_show = X_train[idxs[:5]]\n",
    "\n",
    "plt.figure(figsize=(18,9))\n",
    "for i in range(5):\n",
    "    plt.subplot(1, 5, i + 1)\n",
    "    plt.imshow(imgs_to_show[i])\n",
    "    plt.axis('off')\n",
    "    plt.title(y_train[idxs[i]])"
   ]
  },
  {
   "cell_type": "markdown",
   "metadata": {},
   "source": [
    "## Pré-processamento\n",
    "Utilizando *Theano* ou *TensorFlow* como *backend* faz-se necessário explicitar a dimensão de profundidade da imagem. Como na base de dados **MNIST** não se usa o *RGB*, e sim o *gray-scale*, essa profundidade é 1, mas, mesmo assim, temos que especificar. \n",
    "\n",
    "No *Theano* o shape resultante fica: (1, 28, 28), no *TensorFlow*  fica: (28, 28, 1)."
   ]
  },
  {
   "cell_type": "code",
   "execution_count": 43,
   "metadata": {
    "collapsed": false
   },
   "outputs": [
    {
     "name": "stdout",
     "output_type": "stream",
     "text": [
      "X train:  (60000, 28, 28, 1)\n",
      "X test:  (10000, 28, 28, 1)\n"
     ]
    }
   ],
   "source": [
    "# Reshape\n",
    "X_train = X_train.reshape(X_train.shape[0], 28, 28, 1)\n",
    "X_test = X_test.reshape(X_test.shape[0], 28, 28, 1)\n",
    "\n",
    "print('X train: ', X_train.shape)\n",
    "print('X test: ', X_test.shape)"
   ]
  },
  {
   "cell_type": "markdown",
   "metadata": {},
   "source": [
    "Um pré-processamento final será modificar os tipos de dados para *float32* (para melhor utilização da memória) e normalizar os dados pelo número máximo de cada característica (como o número máximo em *gray-scale* é 255, então dividir todas as características por 255)."
   ]
  },
  {
   "cell_type": "code",
   "execution_count": 44,
   "metadata": {
    "collapsed": true
   },
   "outputs": [],
   "source": [
    "X_train = X_train.astype('float32')\n",
    "X_test = X_test.astype('float32')\n",
    "\n",
    "X_train /= 255\n",
    "X_test /= 255"
   ]
  },
  {
   "cell_type": "markdown",
   "metadata": {},
   "source": [
    "O pré-processamento dos labels é feito transformando o vetor em *one-hot*. "
   ]
  },
  {
   "cell_type": "code",
   "execution_count": 45,
   "metadata": {
    "collapsed": false
   },
   "outputs": [
    {
     "name": "stdout",
     "output_type": "stream",
     "text": [
      "(60000,)\n",
      "[5 0 4 1 9]\n"
     ]
    }
   ],
   "source": [
    "print(y_train.shape)\n",
    "print(y_train[:5])"
   ]
  },
  {
   "cell_type": "code",
   "execution_count": 46,
   "metadata": {
    "collapsed": false
   },
   "outputs": [
    {
     "name": "stdout",
     "output_type": "stream",
     "text": [
      "y train:  (60000, 10)\n",
      "y test:  (10000, 10)\n",
      "Deverá mostrar 5 como a classe:\n",
      "[ 0.  0.  0.  0.  0.  1.  0.  0.  0.  0.]\n"
     ]
    }
   ],
   "source": [
    "# Convertendo o vetor de labels em one-hot\n",
    "y_train = np_utils.to_categorical(y_train, 10)\n",
    "y_test = np_utils.to_categorical(y_test, 10)\n",
    "\n",
    "print('y train: ', y_train.shape)\n",
    "print('y test: ', y_test.shape)\n",
    "print('Deverá mostrar 5 como a classe:')\n",
    "print(y_train[0])"
   ]
  },
  {
   "cell_type": "markdown",
   "metadata": {},
   "source": [
    "## Definindo a arquitetura do modelo\n",
    "Definindo a arquitetura do modelo para a classificação da base de dados **MNIST**.\n",
    "\n",
    "* **Conv2D** - 32 filtros, 3x3 conv\n",
    "* **Conv2D** - 32 filtros, 3x3 conv\n",
    "* **MaxPool** - 2x2\n",
    "* **Dropout** - 0.25\n",
    "* **FC** - 128 neurônios\n",
    "* **Dropout** - 0.5\n",
    "* **FC** - 10 neurônios"
   ]
  },
  {
   "cell_type": "code",
   "execution_count": 74,
   "metadata": {
    "collapsed": false
   },
   "outputs": [
    {
     "name": "stdout",
     "output_type": "stream",
     "text": [
      "Deve ser (None, 10):\n",
      "(None, 10)\n"
     ]
    }
   ],
   "source": [
    "# Definindo o modelo\n",
    "model = Sequential()\n",
    "\n",
    "model.add(Convolution2D(32, (3, 3), activation='relu', input_shape=(28, 28, 1), name='conv1'))\n",
    "model.add(Convolution2D(32, (3, 3), activation='relu', name='conv2'))\n",
    "model.add(MaxPooling2D(pool_size=(2,2), name='max-pool'))\n",
    "model.add(Dropout(0.25, name='dropout-conv'))\n",
    "\n",
    "model.add(Flatten())\n",
    "model.add(Dense(128, activation='relu', name='fc'))\n",
    "model.add(Dropout(0.5, name='dropout-fc'))\n",
    "model.add(Dense(10, activation='softmax', name='output-layer'))\n",
    "\n",
    "print('Deve ser (None, 10):')\n",
    "print(model.output_shape)"
   ]
  },
  {
   "cell_type": "markdown",
   "metadata": {},
   "source": [
    "## Compilando o modelo\n",
    "Para compilar o modelo é necessário definir alguns métodos, como a função de *loss* e o método de otimização utilizado.\n",
    "\n",
    "O **Keras** tem uma variedade de [funções de *loss*](https://keras.io/objectives/) e de [otimizadores](https://keras.io/optimizers/) para escolher. Nós vamos optar por *Categorical Cross Entropy* e o *Adam Optimizer*."
   ]
  },
  {
   "cell_type": "code",
   "execution_count": 51,
   "metadata": {
    "collapsed": true
   },
   "outputs": [],
   "source": [
    "model.compile(loss='categorical_crossentropy', optimizer='adam', metrics=['accuracy'])"
   ]
  },
  {
   "cell_type": "markdown",
   "metadata": {},
   "source": [
    "## Treinando o modelo\n",
    "O treinamento é feito de acordo com a função *fit*. Para uma melhor visualização do treinamento, é possível utilizar os [callbacks](https://keras.io/callbacks/) disponíveis pelo **Keras**."
   ]
  },
  {
   "cell_type": "code",
   "execution_count": 59,
   "metadata": {
    "collapsed": false
   },
   "outputs": [
    {
     "name": "stdout",
     "output_type": "stream",
     "text": [
      "Epoch 1/10\n",
      "60000/60000 [==============================] - 63s - loss: 0.0250 - acc: 0.9916    \n",
      "Epoch 2/10\n",
      "60000/60000 [==============================] - 64s - loss: 0.0251 - acc: 0.9917    \n",
      "Epoch 3/10\n",
      "60000/60000 [==============================] - 64s - loss: 0.0220 - acc: 0.9929    \n",
      "Epoch 4/10\n",
      "60000/60000 [==============================] - 64s - loss: 0.0209 - acc: 0.9932    \n",
      "Epoch 5/10\n",
      "60000/60000 [==============================] - 64s - loss: 0.0220 - acc: 0.9926    \n",
      "Epoch 6/10\n",
      "60000/60000 [==============================] - 64s - loss: 0.0197 - acc: 0.9938    \n",
      "Epoch 7/10\n",
      "60000/60000 [==============================] - 65s - loss: 0.0191 - acc: 0.9939    \n",
      "Epoch 8/10\n",
      "60000/60000 [==============================] - 65s - loss: 0.0187 - acc: 0.9941    \n",
      "Epoch 9/10\n",
      "60000/60000 [==============================] - 64s - loss: 0.0183 - acc: 0.9944    \n",
      "Epoch 10/10\n",
      "60000/60000 [==============================] - 64s - loss: 0.0172 - acc: 0.9946    \n"
     ]
    },
    {
     "data": {
      "text/plain": [
       "<keras.callbacks.History at 0x7f2f6a43d5c0>"
      ]
     },
     "execution_count": 59,
     "metadata": {},
     "output_type": "execute_result"
    }
   ],
   "source": [
    "model.fit(X_train, y_train, batch_size=32, epochs=10, verbose=1)"
   ]
  },
  {
   "cell_type": "markdown",
   "metadata": {},
   "source": [
    "## Avaliando o modelo\n",
    "A avaliação do modelo é feita pela função *evaluate*."
   ]
  },
  {
   "cell_type": "code",
   "execution_count": 60,
   "metadata": {
    "collapsed": false
   },
   "outputs": [
    {
     "name": "stdout",
     "output_type": "stream",
     "text": [
      "10000/10000 [==============================] - 2s     \n",
      "O desempenho de teste foi de 99.25%\n"
     ]
    }
   ],
   "source": [
    "[loss, test_acc] = model.evaluate(X_test, y_test, verbose=1)\n",
    "print('O desempenho de teste foi de %.2f%%' % (100*test_acc))"
   ]
  }
 ],
 "metadata": {
  "kernelspec": {
   "display_name": "Python 3",
   "language": "python",
   "name": "python3"
  },
  "language_info": {
   "codemirror_mode": {
    "name": "ipython",
    "version": 3
   },
   "file_extension": ".py",
   "mimetype": "text/x-python",
   "name": "python",
   "nbconvert_exporter": "python",
   "pygments_lexer": "ipython3",
   "version": "3.5.2"
  }
 },
 "nbformat": 4,
 "nbformat_minor": 0
}
